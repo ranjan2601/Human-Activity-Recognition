{
  "cells": [
    {
      "cell_type": "code",
      "execution_count": 1,
      "id": "2574ff01",
      "metadata": {
        "id": "2574ff01"
      },
      "outputs": [],
      "source": [
        "import numpy as np\n",
        "import matplotlib.pyplot as plt\n",
        "%matplotlib inline\n",
        "import seaborn as sns\n",
        "import tensorflow as tf\n",
        "import warnings\n",
        "warnings.filterwarnings('ignore')\n",
        "import pandas as pd\n",
        "RANDOM_SEED = 42\n",
        "\n",
        "np.random.seed(RANDOM_SEED)\n",
        "tf.random.set_seed(RANDOM_SEED)\n",
        "\n",
        "import tensorflow as tf\n",
        "from tensorflow import keras\n",
        "\n",
        "from pylab import rcParams\n",
        "from scipy import stats"
      ]
    },
    {
      "cell_type": "code",
      "execution_count": 4,
      "id": "0d38509d",
      "metadata": {
        "colab": {
          "base_uri": "https://localhost:8080/",
          "height": 424
        },
        "id": "0d38509d",
        "outputId": "09cafe7b-e8de-4cfc-b9d9-dde507c57d15"
      },
      "outputs": [
        {
          "output_type": "execute_result",
          "data": {
            "text/plain": [
              "         user_id activity        timestamp    x_axis     y_axis        z_axis\n",
              "0             33  Jogging   49105962326000 -0.694638  12.680544   0.50395286;\n",
              "1             33  Jogging   49106062271000  5.012288  11.264028   0.95342433;\n",
              "2             33  Jogging   49106112167000  4.903325  10.882658  -0.08172209;\n",
              "3             33  Jogging   49106222305000 -0.612916  18.496431    3.0237172;\n",
              "4             33  Jogging   49106332290000 -1.184970  12.108489     7.205164;\n",
              "...          ...      ...              ...       ...        ...           ...\n",
              "1098199       19  Sitting  131623331483000  9.000000  -1.570000         1.69;\n",
              "1098200       19  Sitting  131623371431000  9.040000  -1.460000         1.73;\n",
              "1098201       19  Sitting  131623411592000  9.080000  -1.380000         1.69;\n",
              "1098202       19  Sitting  131623491487000  9.000000  -1.460000         1.73;\n",
              "1098203       19  Sitting  131623531465000  8.880000  -1.330000         1.61;\n",
              "\n",
              "[1098204 rows x 6 columns]"
            ],
            "text/html": [
              "\n",
              "  <div id=\"df-a39b8c89-1f64-42c7-baa6-377619df28fd\">\n",
              "    <div class=\"colab-df-container\">\n",
              "      <div>\n",
              "<style scoped>\n",
              "    .dataframe tbody tr th:only-of-type {\n",
              "        vertical-align: middle;\n",
              "    }\n",
              "\n",
              "    .dataframe tbody tr th {\n",
              "        vertical-align: top;\n",
              "    }\n",
              "\n",
              "    .dataframe thead th {\n",
              "        text-align: right;\n",
              "    }\n",
              "</style>\n",
              "<table border=\"1\" class=\"dataframe\">\n",
              "  <thead>\n",
              "    <tr style=\"text-align: right;\">\n",
              "      <th></th>\n",
              "      <th>user_id</th>\n",
              "      <th>activity</th>\n",
              "      <th>timestamp</th>\n",
              "      <th>x_axis</th>\n",
              "      <th>y_axis</th>\n",
              "      <th>z_axis</th>\n",
              "    </tr>\n",
              "  </thead>\n",
              "  <tbody>\n",
              "    <tr>\n",
              "      <th>0</th>\n",
              "      <td>33</td>\n",
              "      <td>Jogging</td>\n",
              "      <td>49105962326000</td>\n",
              "      <td>-0.694638</td>\n",
              "      <td>12.680544</td>\n",
              "      <td>0.50395286;</td>\n",
              "    </tr>\n",
              "    <tr>\n",
              "      <th>1</th>\n",
              "      <td>33</td>\n",
              "      <td>Jogging</td>\n",
              "      <td>49106062271000</td>\n",
              "      <td>5.012288</td>\n",
              "      <td>11.264028</td>\n",
              "      <td>0.95342433;</td>\n",
              "    </tr>\n",
              "    <tr>\n",
              "      <th>2</th>\n",
              "      <td>33</td>\n",
              "      <td>Jogging</td>\n",
              "      <td>49106112167000</td>\n",
              "      <td>4.903325</td>\n",
              "      <td>10.882658</td>\n",
              "      <td>-0.08172209;</td>\n",
              "    </tr>\n",
              "    <tr>\n",
              "      <th>3</th>\n",
              "      <td>33</td>\n",
              "      <td>Jogging</td>\n",
              "      <td>49106222305000</td>\n",
              "      <td>-0.612916</td>\n",
              "      <td>18.496431</td>\n",
              "      <td>3.0237172;</td>\n",
              "    </tr>\n",
              "    <tr>\n",
              "      <th>4</th>\n",
              "      <td>33</td>\n",
              "      <td>Jogging</td>\n",
              "      <td>49106332290000</td>\n",
              "      <td>-1.184970</td>\n",
              "      <td>12.108489</td>\n",
              "      <td>7.205164;</td>\n",
              "    </tr>\n",
              "    <tr>\n",
              "      <th>...</th>\n",
              "      <td>...</td>\n",
              "      <td>...</td>\n",
              "      <td>...</td>\n",
              "      <td>...</td>\n",
              "      <td>...</td>\n",
              "      <td>...</td>\n",
              "    </tr>\n",
              "    <tr>\n",
              "      <th>1098199</th>\n",
              "      <td>19</td>\n",
              "      <td>Sitting</td>\n",
              "      <td>131623331483000</td>\n",
              "      <td>9.000000</td>\n",
              "      <td>-1.570000</td>\n",
              "      <td>1.69;</td>\n",
              "    </tr>\n",
              "    <tr>\n",
              "      <th>1098200</th>\n",
              "      <td>19</td>\n",
              "      <td>Sitting</td>\n",
              "      <td>131623371431000</td>\n",
              "      <td>9.040000</td>\n",
              "      <td>-1.460000</td>\n",
              "      <td>1.73;</td>\n",
              "    </tr>\n",
              "    <tr>\n",
              "      <th>1098201</th>\n",
              "      <td>19</td>\n",
              "      <td>Sitting</td>\n",
              "      <td>131623411592000</td>\n",
              "      <td>9.080000</td>\n",
              "      <td>-1.380000</td>\n",
              "      <td>1.69;</td>\n",
              "    </tr>\n",
              "    <tr>\n",
              "      <th>1098202</th>\n",
              "      <td>19</td>\n",
              "      <td>Sitting</td>\n",
              "      <td>131623491487000</td>\n",
              "      <td>9.000000</td>\n",
              "      <td>-1.460000</td>\n",
              "      <td>1.73;</td>\n",
              "    </tr>\n",
              "    <tr>\n",
              "      <th>1098203</th>\n",
              "      <td>19</td>\n",
              "      <td>Sitting</td>\n",
              "      <td>131623531465000</td>\n",
              "      <td>8.880000</td>\n",
              "      <td>-1.330000</td>\n",
              "      <td>1.61;</td>\n",
              "    </tr>\n",
              "  </tbody>\n",
              "</table>\n",
              "<p>1098204 rows × 6 columns</p>\n",
              "</div>\n",
              "      <button class=\"colab-df-convert\" onclick=\"convertToInteractive('df-a39b8c89-1f64-42c7-baa6-377619df28fd')\"\n",
              "              title=\"Convert this dataframe to an interactive table.\"\n",
              "              style=\"display:none;\">\n",
              "        \n",
              "  <svg xmlns=\"http://www.w3.org/2000/svg\" height=\"24px\"viewBox=\"0 0 24 24\"\n",
              "       width=\"24px\">\n",
              "    <path d=\"M0 0h24v24H0V0z\" fill=\"none\"/>\n",
              "    <path d=\"M18.56 5.44l.94 2.06.94-2.06 2.06-.94-2.06-.94-.94-2.06-.94 2.06-2.06.94zm-11 1L8.5 8.5l.94-2.06 2.06-.94-2.06-.94L8.5 2.5l-.94 2.06-2.06.94zm10 10l.94 2.06.94-2.06 2.06-.94-2.06-.94-.94-2.06-.94 2.06-2.06.94z\"/><path d=\"M17.41 7.96l-1.37-1.37c-.4-.4-.92-.59-1.43-.59-.52 0-1.04.2-1.43.59L10.3 9.45l-7.72 7.72c-.78.78-.78 2.05 0 2.83L4 21.41c.39.39.9.59 1.41.59.51 0 1.02-.2 1.41-.59l7.78-7.78 2.81-2.81c.8-.78.8-2.07 0-2.86zM5.41 20L4 18.59l7.72-7.72 1.47 1.35L5.41 20z\"/>\n",
              "  </svg>\n",
              "      </button>\n",
              "      \n",
              "  <style>\n",
              "    .colab-df-container {\n",
              "      display:flex;\n",
              "      flex-wrap:wrap;\n",
              "      gap: 12px;\n",
              "    }\n",
              "\n",
              "    .colab-df-convert {\n",
              "      background-color: #E8F0FE;\n",
              "      border: none;\n",
              "      border-radius: 50%;\n",
              "      cursor: pointer;\n",
              "      display: none;\n",
              "      fill: #1967D2;\n",
              "      height: 32px;\n",
              "      padding: 0 0 0 0;\n",
              "      width: 32px;\n",
              "    }\n",
              "\n",
              "    .colab-df-convert:hover {\n",
              "      background-color: #E2EBFA;\n",
              "      box-shadow: 0px 1px 2px rgba(60, 64, 67, 0.3), 0px 1px 3px 1px rgba(60, 64, 67, 0.15);\n",
              "      fill: #174EA6;\n",
              "    }\n",
              "\n",
              "    [theme=dark] .colab-df-convert {\n",
              "      background-color: #3B4455;\n",
              "      fill: #D2E3FC;\n",
              "    }\n",
              "\n",
              "    [theme=dark] .colab-df-convert:hover {\n",
              "      background-color: #434B5C;\n",
              "      box-shadow: 0px 1px 3px 1px rgba(0, 0, 0, 0.15);\n",
              "      filter: drop-shadow(0px 1px 2px rgba(0, 0, 0, 0.3));\n",
              "      fill: #FFFFFF;\n",
              "    }\n",
              "  </style>\n",
              "\n",
              "      <script>\n",
              "        const buttonEl =\n",
              "          document.querySelector('#df-a39b8c89-1f64-42c7-baa6-377619df28fd button.colab-df-convert');\n",
              "        buttonEl.style.display =\n",
              "          google.colab.kernel.accessAllowed ? 'block' : 'none';\n",
              "\n",
              "        async function convertToInteractive(key) {\n",
              "          const element = document.querySelector('#df-a39b8c89-1f64-42c7-baa6-377619df28fd');\n",
              "          const dataTable =\n",
              "            await google.colab.kernel.invokeFunction('convertToInteractive',\n",
              "                                                     [key], {});\n",
              "          if (!dataTable) return;\n",
              "\n",
              "          const docLinkHtml = 'Like what you see? Visit the ' +\n",
              "            '<a target=\"_blank\" href=https://colab.research.google.com/notebooks/data_table.ipynb>data table notebook</a>'\n",
              "            + ' to learn more about interactive tables.';\n",
              "          element.innerHTML = '';\n",
              "          dataTable['output_type'] = 'display_data';\n",
              "          await google.colab.output.renderOutput(dataTable, element);\n",
              "          const docLink = document.createElement('div');\n",
              "          docLink.innerHTML = docLinkHtml;\n",
              "          element.appendChild(docLink);\n",
              "        }\n",
              "      </script>\n",
              "    </div>\n",
              "  </div>\n",
              "  "
            ]
          },
          "metadata": {},
          "execution_count": 4
        }
      ],
      "source": [
        "column_names = ['user_id','activity','timestamp','x_axis','y_axis','z_axis']\n",
        "\n",
        "df = pd.read_csv('WISDM_ar_v1.1_raw.txt',header=None,names = column_names)\n",
        "df"
      ]
    },
    {
      "cell_type": "code",
      "execution_count": 5,
      "id": "0555cd7b",
      "metadata": {
        "colab": {
          "base_uri": "https://localhost:8080/"
        },
        "id": "0555cd7b",
        "outputId": "639e9e2a-1057-424a-f721-056a3bc1a5eb"
      },
      "outputs": [
        {
          "output_type": "stream",
          "name": "stdout",
          "text": [
            "<class 'pandas.core.frame.DataFrame'>\n",
            "RangeIndex: 1098204 entries, 0 to 1098203\n",
            "Data columns (total 6 columns):\n",
            " #   Column     Non-Null Count    Dtype  \n",
            "---  ------     --------------    -----  \n",
            " 0   user_id    1098204 non-null  int64  \n",
            " 1   activity   1098204 non-null  object \n",
            " 2   timestamp  1098204 non-null  int64  \n",
            " 3   x_axis     1098204 non-null  float64\n",
            " 4   y_axis     1098204 non-null  float64\n",
            " 5   z_axis     1098203 non-null  object \n",
            "dtypes: float64(2), int64(2), object(2)\n",
            "memory usage: 50.3+ MB\n"
          ]
        }
      ],
      "source": [
        "df.info()"
      ]
    },
    {
      "cell_type": "code",
      "execution_count": 6,
      "id": "0bd7ee9f",
      "metadata": {
        "id": "0bd7ee9f"
      },
      "outputs": [],
      "source": [
        "df.z_axis.replace(regex = True,to_replace=r';',value = r'',inplace=True)"
      ]
    },
    {
      "cell_type": "code",
      "execution_count": 7,
      "id": "9f9c7ff9",
      "metadata": {
        "id": "9f9c7ff9"
      },
      "outputs": [],
      "source": [
        "df['z_axis'] = df.z_axis.astype('float64')"
      ]
    },
    {
      "cell_type": "code",
      "execution_count": 8,
      "id": "f37a7b9d",
      "metadata": {
        "colab": {
          "base_uri": "https://localhost:8080/"
        },
        "id": "f37a7b9d",
        "outputId": "807f9186-95f3-414e-9ee1-899ed675e52f"
      },
      "outputs": [
        {
          "output_type": "stream",
          "name": "stdout",
          "text": [
            "<class 'pandas.core.frame.DataFrame'>\n",
            "RangeIndex: 1098204 entries, 0 to 1098203\n",
            "Data columns (total 6 columns):\n",
            " #   Column     Non-Null Count    Dtype  \n",
            "---  ------     --------------    -----  \n",
            " 0   user_id    1098204 non-null  int64  \n",
            " 1   activity   1098204 non-null  object \n",
            " 2   timestamp  1098204 non-null  int64  \n",
            " 3   x_axis     1098204 non-null  float64\n",
            " 4   y_axis     1098204 non-null  float64\n",
            " 5   z_axis     1098203 non-null  float64\n",
            "dtypes: float64(3), int64(2), object(1)\n",
            "memory usage: 50.3+ MB\n"
          ]
        }
      ],
      "source": [
        "df.info()"
      ]
    },
    {
      "cell_type": "code",
      "execution_count": 9,
      "id": "392f9da4",
      "metadata": {
        "id": "392f9da4"
      },
      "outputs": [],
      "source": [
        "df.dropna(axis=0,how='any',inplace=True)"
      ]
    },
    {
      "cell_type": "code",
      "execution_count": 10,
      "id": "b0ddf471",
      "metadata": {
        "colab": {
          "base_uri": "https://localhost:8080/"
        },
        "id": "b0ddf471",
        "outputId": "469eb854-6ec0-40e4-eef6-abc4c9f501e6"
      },
      "outputs": [
        {
          "output_type": "execute_result",
          "data": {
            "text/plain": [
              "(1098203, 6)"
            ]
          },
          "metadata": {},
          "execution_count": 10
        }
      ],
      "source": [
        "df.shape"
      ]
    },
    {
      "cell_type": "code",
      "execution_count": 11,
      "id": "d25ac830",
      "metadata": {
        "colab": {
          "base_uri": "https://localhost:8080/",
          "height": 295
        },
        "id": "d25ac830",
        "outputId": "0b6a78cd-bf9c-4987-ee6f-2800c5145a9f"
      },
      "outputs": [
        {
          "output_type": "display_data",
          "data": {
            "text/plain": [
              "<Figure size 432x288 with 1 Axes>"
            ],
            "image/png": "[encoded data removed]"
          },
          "metadata": {
            "needs_background": "light"
          }
        }
      ],
      "source": [
        "sns.countplot(x='activity',data=df)\n",
        "plt.title(\"Number of samples by activity\")\n",
        "plt.show()"
      ]
    },
    {
      "cell_type": "code",
      "execution_count": 12,
      "id": "f5aac793",
      "metadata": {
        "scrolled": true,
        "colab": {
          "base_uri": "https://localhost:8080/",
          "height": 1000
        },
        "id": "f5aac793",
        "outputId": "55bee7d5-979f-4763-c8dc-a4268cb86bb4"
      },
      "outputs": [
        {
          "output_type": "display_data",
          "data": {
            "text/plain": [
              "<Figure size 1440x1440 with 1 Axes>"
            ],
            "image/png": "[encoded data removed]"
          },
          "metadata": {
            "needs_background": "light"
          }
        }
      ],
      "source": [
        "plt.figure(figsize=(20,20))\n",
        "sns.countplot(x='user_id',hue='activity',data=df)\n",
        "plt.title('Activities by user')\n",
        "plt.show()"
      ]
    },
    {
      "cell_type": "code",
      "execution_count": 13,
      "id": "4f2fcaf9",
      "metadata": {
        "id": "4f2fcaf9"
      },
      "outputs": [],
      "source": [
        "df_train = df[df['user_id']<=30]\n",
        "df_test = df[df['user_id']>30]"
      ]
    },
    {
      "cell_type": "code",
      "execution_count": 14,
      "id": "d1c75083",
      "metadata": {
        "id": "d1c75083"
      },
      "outputs": [],
      "source": [
        "from sklearn.preprocessing import RobustScaler, MinMaxScaler"
      ]
    },
    {
      "cell_type": "code",
      "execution_count": 15,
      "id": "0c0ba855",
      "metadata": {
        "id": "0c0ba855"
      },
      "outputs": [],
      "source": [
        "scale_columns = ['x_axis','y_axis','z_axis']\n",
        "\n",
        "scaler = RobustScaler()\n",
        "scaler = scaler.fit(df_train[scale_columns])"
      ]
    },
    {
      "cell_type": "code",
      "execution_count": 16,
      "id": "f56b87b0",
      "metadata": {
        "id": "f56b87b0"
      },
      "outputs": [],
      "source": [
        "df_train.loc[:, scale_columns] = scaler.transform(\n",
        "  df_train[scale_columns].to_numpy()\n",
        ")\n",
        "df_test.loc[:, scale_columns] = scaler.transform(\n",
        "  df_test[scale_columns].to_numpy()\n",
        ")"
      ]
    },
    {
      "cell_type": "code",
      "execution_count": 17,
      "id": "7b81f7be",
      "metadata": {
        "id": "7b81f7be"
      },
      "outputs": [],
      "source": [
        "def create_dataset(X, y, time_steps=1, step=1):\n",
        "    Xs, ys = [], []\n",
        "    for i in range(0, len(X) - time_steps, step):\n",
        "        v = X.iloc[i:(i + time_steps)].values\n",
        "        labels = y.iloc[i: i + time_steps]\n",
        "        Xs.append(v)\n",
        "        ys.append(stats.mode(labels)[0][0])\n",
        "    return np.array(Xs), np.array(ys).reshape(-1, 1)"
      ]
    },
    {
      "cell_type": "code",
      "execution_count": 18,
      "id": "c85e1e0f",
      "metadata": {
        "id": "c85e1e0f"
      },
      "outputs": [],
      "source": [
        "TIME_STEPS = 200\n",
        "STEP = 40\n",
        "\n",
        "X_train, y_train = create_dataset(\n",
        "    df_train[['x_axis', 'y_axis', 'z_axis']],\n",
        "    df_train.activity,\n",
        "    TIME_STEPS,\n",
        "    STEP\n",
        ")\n",
        "\n",
        "X_test, y_test = create_dataset(\n",
        "    df_test[['x_axis', 'y_axis', 'z_axis']],\n",
        "    df_test.activity,\n",
        "    TIME_STEPS,\n",
        "    STEP\n",
        ")"
      ]
    },
    {
      "cell_type": "code",
      "execution_count": 19,
      "id": "d76e5c90",
      "metadata": {
        "colab": {
          "base_uri": "https://localhost:8080/"
        },
        "id": "d76e5c90",
        "outputId": "97e03fbc-a862-488e-baef-97d738d87467"
      },
      "outputs": [
        {
          "output_type": "execute_result",
          "data": {
            "text/plain": [
              "((22454, 200, 3), (22454, 1))"
            ]
          },
          "metadata": {},
          "execution_count": 19
        }
      ],
      "source": [
        "X_train.shape,y_train.shape"
      ]
    },
    {
      "cell_type": "code",
      "execution_count": 20,
      "id": "43362740",
      "metadata": {
        "id": "43362740"
      },
      "outputs": [],
      "source": [
        "from sklearn.preprocessing import OneHotEncoder\n",
        "\n",
        "enc = OneHotEncoder(handle_unknown='ignore', sparse=False)\n",
        "\n",
        "enc = enc.fit(y_train)\n",
        "\n",
        "y_train = enc.transform(y_train)\n",
        "y_test = enc.transform(y_test)"
      ]
    },
    {
      "cell_type": "code",
      "execution_count": 21,
      "id": "b1917c2d",
      "metadata": {
        "id": "b1917c2d"
      },
      "outputs": [],
      "source": [
        "model = tf.keras.Sequential()\n",
        "model.add(tf.keras.layers.LSTM(128,input_shape = (X_train.shape[1],X_train.shape[2])))\n",
        "model.add(tf.keras.layers.Dropout(0.5))\n",
        "model.add(tf.keras.layers.Dense(128,activation='relu'))\n",
        "model.add(tf.keras.layers.Dense(y_train.shape[1],activation='softmax'))\n",
        "model.compile(loss = 'categorical_crossentropy',optimizer='adam',metrics=['accuracy'])\n"
      ]
    },
    {
      "cell_type": "code",
      "execution_count": 22,
      "id": "27fb57bb",
      "metadata": {
        "colab": {
          "base_uri": "https://localhost:8080/"
        },
        "id": "27fb57bb",
        "outputId": "1479106d-670f-4b33-f02a-73c66319f861"
      },
      "outputs": [
        {
          "output_type": "stream",
          "name": "stdout",
          "text": [
            "Model: \"sequential\"\n",
            "_________________________________________________________________\n",
            " Layer (type)                Output Shape              Param #   \n",
            "=================================================================\n",
            " lstm (LSTM)                 (None, 128)               67584     \n",
            "                                                                 \n",
            " dropout (Dropout)           (None, 128)               0         \n",
            "                                                                 \n",
            " dense (Dense)               (None, 128)               16512     \n",
            "                                                                 \n",
            " dense_1 (Dense)             (None, 6)                 774       \n",
            "                                                                 \n",
            "=================================================================\n",
            "Total params: 84,870\n",
            "Trainable params: 84,870\n",
            "Non-trainable params: 0\n",
            "_________________________________________________________________\n"
          ]
        }
      ],
      "source": [
        "model.summary()"
      ]
    },
    {
      "cell_type": "code",
      "execution_count": 23,
      "id": "4363f853",
      "metadata": {
        "scrolled": true,
        "colab": {
          "base_uri": "https://localhost:8080/"
        },
        "id": "4363f853",
        "outputId": "d03b261e-8140-466a-9c03-c1143206e0b9"
      },
      "outputs": [
        {
          "output_type": "stream",
          "name": "stdout",
          "text": [
            "Epoch 1/25\n",
            "351/351 [==============================] - 11s 13ms/step - loss: 1.1167 - accuracy: 0.6389\n",
            "Epoch 2/25\n",
            "351/351 [==============================] - 5s 13ms/step - loss: 1.0505 - accuracy: 0.6503\n",
            "Epoch 3/25\n",
            "351/351 [==============================] - 5s 13ms/step - loss: 0.9338 - accuracy: 0.6861\n",
            "Epoch 4/25\n",
            "351/351 [==============================] - 5s 13ms/step - loss: 0.7406 - accuracy: 0.7533\n",
            "Epoch 5/25\n",
            "351/351 [==============================] - 5s 13ms/step - loss: 0.6410 - accuracy: 0.7832\n",
            "Epoch 6/25\n",
            "351/351 [==============================] - 4s 13ms/step - loss: 0.5438 - accuracy: 0.8121\n",
            "Epoch 7/25\n",
            "351/351 [==============================] - 5s 13ms/step - loss: 0.4747 - accuracy: 0.8308\n",
            "Epoch 8/25\n",
            "351/351 [==============================] - 4s 13ms/step - loss: 0.4624 - accuracy: 0.8360\n",
            "Epoch 9/25\n",
            "351/351 [==============================] - 4s 13ms/step - loss: 0.4818 - accuracy: 0.8260\n",
            "Epoch 10/25\n",
            "351/351 [==============================] - 5s 13ms/step - loss: 0.4300 - accuracy: 0.8501\n",
            "Epoch 11/25\n",
            "351/351 [==============================] - 5s 13ms/step - loss: 0.4892 - accuracy: 0.8373\n",
            "Epoch 12/25\n",
            "351/351 [==============================] - 5s 13ms/step - loss: 0.3498 - accuracy: 0.8830\n",
            "Epoch 13/25\n",
            "351/351 [==============================] - 5s 13ms/step - loss: 0.3117 - accuracy: 0.8955\n",
            "Epoch 14/25\n",
            "351/351 [==============================] - 5s 13ms/step - loss: 0.3307 - accuracy: 0.8886\n",
            "Epoch 15/25\n",
            "351/351 [==============================] - 5s 13ms/step - loss: 0.2623 - accuracy: 0.9181\n",
            "Epoch 16/25\n",
            "351/351 [==============================] - 4s 13ms/step - loss: 0.4969 - accuracy: 0.8298\n",
            "Epoch 17/25\n",
            "351/351 [==============================] - 4s 13ms/step - loss: 0.3157 - accuracy: 0.9008\n",
            "Epoch 18/25\n",
            "351/351 [==============================] - 4s 13ms/step - loss: 0.3609 - accuracy: 0.8750\n",
            "Epoch 19/25\n",
            "351/351 [==============================] - 4s 13ms/step - loss: 0.2335 - accuracy: 0.9324\n",
            "Epoch 20/25\n",
            "351/351 [==============================] - 4s 13ms/step - loss: 0.3407 - accuracy: 0.8804\n",
            "Epoch 21/25\n",
            "351/351 [==============================] - 4s 13ms/step - loss: 0.6543 - accuracy: 0.7769\n",
            "Epoch 22/25\n",
            "351/351 [==============================] - 4s 13ms/step - loss: 0.8689 - accuracy: 0.7041\n",
            "Epoch 23/25\n",
            "351/351 [==============================] - 4s 13ms/step - loss: 0.7493 - accuracy: 0.7463\n",
            "Epoch 24/25\n",
            "351/351 [==============================] - 4s 13ms/step - loss: 0.7515 - accuracy: 0.7431\n",
            "Epoch 25/25\n",
            "351/351 [==============================] - 5s 13ms/step - loss: 0.6234 - accuracy: 0.7717\n"
          ]
        },
        {
          "output_type": "execute_result",
          "data": {
            "text/plain": [
              "<keras.callbacks.History at 0x7fca62a61fd0>"
            ]
          },
          "metadata": {},
          "execution_count": 23
        }
      ],
      "source": [
        "model.fit(X_train,y_train,epochs=25,batch_size=64)"
      ]
    },
    {
      "cell_type": "code",
      "execution_count": 24,
      "id": "db40e09b",
      "metadata": {
        "colab": {
          "base_uri": "https://localhost:8080/"
        },
        "id": "db40e09b",
        "outputId": "465a36aa-a1a4-4264-cf73-3aaa69d2f8b1"
      },
      "outputs": [
        {
          "output_type": "stream",
          "name": "stdout",
          "text": [
            "78/78 [==============================] - 1s 7ms/step - loss: 0.5610 - accuracy: 0.8047\n"
          ]
        },
        {
          "output_type": "execute_result",
          "data": {
            "text/plain": [
              "[0.5610035061836243, 0.8046875]"
            ]
          },
          "metadata": {},
          "execution_count": 24
        }
      ],
      "source": [
        "model.evaluate(X_test,y_test,batch_size=64)"
      ]
    },
    {
      "cell_type": "code",
      "execution_count": 25,
      "id": "e360c890",
      "metadata": {
        "id": "e360c890"
      },
      "outputs": [],
      "source": [
        "y_pred = model.predict(X_test)"
      ]
    },
    {
      "cell_type": "code",
      "execution_count": 26,
      "id": "ecb8ecb2",
      "metadata": {
        "id": "ecb8ecb2"
      },
      "outputs": [],
      "source": [
        "from sklearn.metrics import confusion_matrix,accuracy_score"
      ]
    },
    {
      "cell_type": "code",
      "execution_count": 30,
      "id": "1685ce41",
      "metadata": {
        "id": "1685ce41"
      },
      "outputs": [],
      "source": [
        "y_test = [np.argmax(i) for i in y_test]\n",
        "y_pred = [np.argmax(i) for i in y_pred]"
      ]
    },
    {
      "cell_type": "code",
      "source": [
        "accuracy_score(y_test,y_pred)"
      ],
      "metadata": {
        "colab": {
          "base_uri": "https://localhost:8080/"
        },
        "id": "ikVmJ5h-nDCF",
        "outputId": "bb58b2e6-8526-4180-b09d-0006f89e679a"
      },
      "id": "ikVmJ5h-nDCF",
      "execution_count": 33,
      "outputs": [
        {
          "output_type": "execute_result",
          "data": {
            "text/plain": [
              "0.8046875"
            ]
          },
          "metadata": {},
          "execution_count": 33
        }
      ]
    },
    {
      "cell_type": "code",
      "execution_count": 36,
      "id": "05f5566b",
      "metadata": {
        "id": "05f5566b"
      },
      "outputs": [],
      "source": [
        "def plot_cm(y_true, y_pred, class_names):\n",
        "  cm = confusion_matrix(y_true, y_pred)\n",
        "  fig, ax = plt.subplots(figsize=(18, 16)) \n",
        "  ax = sns.heatmap(\n",
        "      cm, \n",
        "      annot=True, \n",
        "      fmt=\"d\", \n",
        "      cmap=sns.diverging_palette(220, 20, n=7),\n",
        "      ax=ax\n",
        "  )\n",
        "\n",
        "  plt.ylabel('Actual')\n",
        "  plt.xlabel('Predicted')\n",
        "  ax.set_xticklabels(class_names)\n",
        "  ax.set_yticklabels(class_names)\n",
        "  b, t = plt.ylim()\n",
        "  b += 0.5 \n",
        "  t -= 0.5\n",
        "  plt.ylim(b, t) \n",
        "  plt.show() "
      ]
    },
    {
      "cell_type": "code",
      "source": [
        "plot_cm(\n",
        "  y_test,\n",
        "  y_pred,\n",
        "  enc.categories_[0]\n",
        ")"
      ],
      "metadata": {
        "colab": {
          "base_uri": "https://localhost:8080/",
          "height": 932
        },
        "id": "YLJjcIMwnZJa",
        "outputId": "8f23bd39-9d98-4de0-cc60-2695c9d1f30e"
      },
      "id": "YLJjcIMwnZJa",
      "execution_count": 38,
      "outputs": [
        {
          "output_type": "display_data",
          "data": {
            "text/plain": [
              "<Figure size 1296x1152 with 2 Axes>"
            ],
            "image/png": "[encoded data removed]"
          },
          "metadata": {
            "needs_background": "light"
          }
        }
      ]
    }
  ],
  "metadata": {
    "kernelspec": {
      "display_name": "Python 3 (ipykernel)",
      "language": "python",
      "name": "python3"
    },
    "language_info": {
      "codemirror_mode": {
        "name": "ipython",
        "version": 3
      },
      "file_extension": ".py",
      "mimetype": "text/x-python",
      "name": "python",
      "nbconvert_exporter": "python",
      "pygments_lexer": "ipython3",
      "version": "3.9.7"
    },
    "colab": {
      "name": "Human_activity_recognition.ipynb",
      "provenance": []
    },
    "accelerator": "GPU"
  },
  "nbformat": 4,
  "nbformat_minor": 5
}