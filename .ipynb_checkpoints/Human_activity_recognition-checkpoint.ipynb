{
 "cells": [
  {
   "cell_type": "code",
   "execution_count": 35,
   "id": "2574ff01",
   "metadata": {},
   "outputs": [],
   "source": [
    "import numpy as np\n",
    "import matplotlib.pyplot as plt\n",
    "%matplotlib inline\n",
    "import seaborn as sns\n",
    "import tensorflow as tf\n",
    "import warnings\n",
    "warnings.filterwarnings('ignore')\n",
    "import pandas as pd\n",
    "RANDOM_SEED = 42\n",
    "\n",
    "np.random.seed(RANDOM_SEED)\n",
    "tf.random.set_seed(RANDOM_SEED)\n",
    "\n",
    "import tensorflow as tf\n",
    "from tensorflow import keras\n",
    "\n",
    "from pylab import rcParams\n",
    "from scipy import stats"
   ]
  },
  {
   "cell_type": "code",
   "execution_count": 4,
   "id": "0d38509d",
   "metadata": {},
   "outputs": [
    {
     "data": {
      "text/html": [
       "<div>\n",
       "<style scoped>\n",
       "    .dataframe tbody tr th:only-of-type {\n",
       "        vertical-align: middle;\n",
       "    }\n",
       "\n",
       "    .dataframe tbody tr th {\n",
       "        vertical-align: top;\n",
       "    }\n",
       "\n",
       "    .dataframe thead th {\n",
       "        text-align: right;\n",
       "    }\n",
       "</style>\n",
       "<table border=\"1\" class=\"dataframe\">\n",
       "  <thead>\n",
       "    <tr style=\"text-align: right;\">\n",
       "      <th></th>\n",
       "      <th>user_id</th>\n",
       "      <th>activity</th>\n",
       "      <th>timestamp</th>\n",
       "      <th>x_axis</th>\n",
       "      <th>y_axis</th>\n",
       "      <th>z_axis</th>\n",
       "    </tr>\n",
       "  </thead>\n",
       "  <tbody>\n",
       "    <tr>\n",
       "      <th>0</th>\n",
       "      <td>33</td>\n",
       "      <td>Jogging</td>\n",
       "      <td>49105962326000</td>\n",
       "      <td>-0.694638</td>\n",
       "      <td>12.680544</td>\n",
       "      <td>0.50395286;</td>\n",
       "    </tr>\n",
       "    <tr>\n",
       "      <th>1</th>\n",
       "      <td>33</td>\n",
       "      <td>Jogging</td>\n",
       "      <td>49106062271000</td>\n",
       "      <td>5.012288</td>\n",
       "      <td>11.264028</td>\n",
       "      <td>0.95342433;</td>\n",
       "    </tr>\n",
       "    <tr>\n",
       "      <th>2</th>\n",
       "      <td>33</td>\n",
       "      <td>Jogging</td>\n",
       "      <td>49106112167000</td>\n",
       "      <td>4.903325</td>\n",
       "      <td>10.882658</td>\n",
       "      <td>-0.08172209;</td>\n",
       "    </tr>\n",
       "    <tr>\n",
       "      <th>3</th>\n",
       "      <td>33</td>\n",
       "      <td>Jogging</td>\n",
       "      <td>49106222305000</td>\n",
       "      <td>-0.612916</td>\n",
       "      <td>18.496431</td>\n",
       "      <td>3.0237172;</td>\n",
       "    </tr>\n",
       "    <tr>\n",
       "      <th>4</th>\n",
       "      <td>33</td>\n",
       "      <td>Jogging</td>\n",
       "      <td>49106332290000</td>\n",
       "      <td>-1.184970</td>\n",
       "      <td>12.108489</td>\n",
       "      <td>7.205164;</td>\n",
       "    </tr>\n",
       "    <tr>\n",
       "      <th>...</th>\n",
       "      <td>...</td>\n",
       "      <td>...</td>\n",
       "      <td>...</td>\n",
       "      <td>...</td>\n",
       "      <td>...</td>\n",
       "      <td>...</td>\n",
       "    </tr>\n",
       "    <tr>\n",
       "      <th>1098199</th>\n",
       "      <td>19</td>\n",
       "      <td>Sitting</td>\n",
       "      <td>131623331483000</td>\n",
       "      <td>9.000000</td>\n",
       "      <td>-1.570000</td>\n",
       "      <td>1.69;</td>\n",
       "    </tr>\n",
       "    <tr>\n",
       "      <th>1098200</th>\n",
       "      <td>19</td>\n",
       "      <td>Sitting</td>\n",
       "      <td>131623371431000</td>\n",
       "      <td>9.040000</td>\n",
       "      <td>-1.460000</td>\n",
       "      <td>1.73;</td>\n",
       "    </tr>\n",
       "    <tr>\n",
       "      <th>1098201</th>\n",
       "      <td>19</td>\n",
       "      <td>Sitting</td>\n",
       "      <td>131623411592000</td>\n",
       "      <td>9.080000</td>\n",
       "      <td>-1.380000</td>\n",
       "      <td>1.69;</td>\n",
       "    </tr>\n",
       "    <tr>\n",
       "      <th>1098202</th>\n",
       "      <td>19</td>\n",
       "      <td>Sitting</td>\n",
       "      <td>131623491487000</td>\n",
       "      <td>9.000000</td>\n",
       "      <td>-1.460000</td>\n",
       "      <td>1.73;</td>\n",
       "    </tr>\n",
       "    <tr>\n",
       "      <th>1098203</th>\n",
       "      <td>19</td>\n",
       "      <td>Sitting</td>\n",
       "      <td>131623531465000</td>\n",
       "      <td>8.880000</td>\n",
       "      <td>-1.330000</td>\n",
       "      <td>1.61;</td>\n",
       "    </tr>\n",
       "  </tbody>\n",
       "</table>\n",
       "<p>1098204 rows × 6 columns</p>\n",
       "</div>"
      ],
      "text/plain": [
       "         user_id activity        timestamp    x_axis     y_axis        z_axis\n",
       "0             33  Jogging   49105962326000 -0.694638  12.680544   0.50395286;\n",
       "1             33  Jogging   49106062271000  5.012288  11.264028   0.95342433;\n",
       "2             33  Jogging   49106112167000  4.903325  10.882658  -0.08172209;\n",
       "3             33  Jogging   49106222305000 -0.612916  18.496431    3.0237172;\n",
       "4             33  Jogging   49106332290000 -1.184970  12.108489     7.205164;\n",
       "...          ...      ...              ...       ...        ...           ...\n",
       "1098199       19  Sitting  131623331483000  9.000000  -1.570000         1.69;\n",
       "1098200       19  Sitting  131623371431000  9.040000  -1.460000         1.73;\n",
       "1098201       19  Sitting  131623411592000  9.080000  -1.380000         1.69;\n",
       "1098202       19  Sitting  131623491487000  9.000000  -1.460000         1.73;\n",
       "1098203       19  Sitting  131623531465000  8.880000  -1.330000         1.61;\n",
       "\n",
       "[1098204 rows x 6 columns]"
      ]
     },
     "execution_count": 4,
     "metadata": {},
     "output_type": "execute_result"
    }
   ],
   "source": [
    "column_names = ['user_id','activity','timestamp','x_axis','y_axis','z_axis']\n",
    "\n",
    "df = pd.read_csv('WISDM_ar_v1.1/WISDM_ar_v1.1_raw.txt',header=None,names = column_names)\n",
    "df"
   ]
  },
  {
   "cell_type": "code",
   "execution_count": 7,
   "id": "0555cd7b",
   "metadata": {},
   "outputs": [
    {
     "name": "stdout",
     "output_type": "stream",
     "text": [
      "<class 'pandas.core.frame.DataFrame'>\n",
      "Int64Index: 1098203 entries, 0 to 1098203\n",
      "Data columns (total 6 columns):\n",
      " #   Column     Non-Null Count    Dtype  \n",
      "---  ------     --------------    -----  \n",
      " 0   user_id    1098203 non-null  int64  \n",
      " 1   activity   1098203 non-null  object \n",
      " 2   timestamp  1098203 non-null  int64  \n",
      " 3   x_axis     1098203 non-null  float64\n",
      " 4   y_axis     1098203 non-null  float64\n",
      " 5   z_axis     1098203 non-null  object \n",
      "dtypes: float64(2), int64(2), object(2)\n",
      "memory usage: 58.7+ MB\n"
     ]
    }
   ],
   "source": [
    "df.info()"
   ]
  },
  {
   "cell_type": "code",
   "execution_count": 8,
   "id": "0bd7ee9f",
   "metadata": {},
   "outputs": [],
   "source": [
    "df.z_axis.replace(regex = True,to_replace=r';',value = r'',inplace=True)"
   ]
  },
  {
   "cell_type": "code",
   "execution_count": 9,
   "id": "9f9c7ff9",
   "metadata": {},
   "outputs": [],
   "source": [
    "df['z_axis'] = df.z_axis.astype('float64')"
   ]
  },
  {
   "cell_type": "code",
   "execution_count": 10,
   "id": "f37a7b9d",
   "metadata": {},
   "outputs": [
    {
     "name": "stdout",
     "output_type": "stream",
     "text": [
      "<class 'pandas.core.frame.DataFrame'>\n",
      "Int64Index: 1098203 entries, 0 to 1098203\n",
      "Data columns (total 6 columns):\n",
      " #   Column     Non-Null Count    Dtype  \n",
      "---  ------     --------------    -----  \n",
      " 0   user_id    1098203 non-null  int64  \n",
      " 1   activity   1098203 non-null  object \n",
      " 2   timestamp  1098203 non-null  int64  \n",
      " 3   x_axis     1098203 non-null  float64\n",
      " 4   y_axis     1098203 non-null  float64\n",
      " 5   z_axis     1098203 non-null  float64\n",
      "dtypes: float64(3), int64(2), object(1)\n",
      "memory usage: 58.7+ MB\n"
     ]
    }
   ],
   "source": [
    "df.info()"
   ]
  },
  {
   "cell_type": "code",
   "execution_count": 5,
   "id": "392f9da4",
   "metadata": {},
   "outputs": [],
   "source": [
    "df.dropna(axis=0,how='any',inplace=True)"
   ]
  },
  {
   "cell_type": "code",
   "execution_count": 6,
   "id": "b0ddf471",
   "metadata": {},
   "outputs": [
    {
     "data": {
      "text/plain": [
       "(1098203, 6)"
      ]
     },
     "execution_count": 6,
     "metadata": {},
     "output_type": "execute_result"
    }
   ],
   "source": [
    "df.shape"
   ]
  },
  {
   "cell_type": "code",
   "execution_count": 12,
   "id": "d25ac830",
   "metadata": {},
   "outputs": [
    {
     "data": {
      "image/png": "[encoded data removed]",
      "text/plain": [
       "<Figure size 432x288 with 1 Axes>"
      ]
     },
     "metadata": {
      "needs_background": "light"
     },
     "output_type": "display_data"
    }
   ],
   "source": [
    "sns.countplot(x='activity',data=df)\n",
    "plt.title(\"Number of samples by activity\")\n",
    "plt.show()"
   ]
  },
  {
   "cell_type": "code",
   "execution_count": 22,
   "id": "f5aac793",
   "metadata": {
    "scrolled": true
   },
   "outputs": [
    {
     "data": {
      "image/png": "[encoded data removed]",
      "text/plain": [
       "<Figure size 1440x1440 with 1 Axes>"
      ]
     },
     "metadata": {
      "needs_background": "light"
     },
     "output_type": "display_data"
    }
   ],
   "source": [
    "plt.figure(figsize=(20,20))\n",
    "sns.countplot(x='user_id',hue='activity',data=df)\n",
    "plt.title('Activities by user')\n",
    "plt.show()"
   ]
  },
  {
   "cell_type": "code",
   "execution_count": 23,
   "id": "4f2fcaf9",
   "metadata": {},
   "outputs": [],
   "source": [
    "df_train = df[df['user_id']<=30]\n",
    "df_test = df[df['user_id']>30]"
   ]
  },
  {
   "cell_type": "code",
   "execution_count": 25,
   "id": "d1c75083",
   "metadata": {},
   "outputs": [],
   "source": [
    "from sklearn.preprocessing import RobustScaler, MinMaxScaler"
   ]
  },
  {
   "cell_type": "code",
   "execution_count": 29,
   "id": "0c0ba855",
   "metadata": {},
   "outputs": [],
   "source": [
    "scale_columns = ['x_axis','y_axis','z_axis']\n",
    "\n",
    "scaler = RobustScaler()\n",
    "scaler = scaler.fit(df_train[scale_columns])"
   ]
  },
  {
   "cell_type": "code",
   "execution_count": 31,
   "id": "f56b87b0",
   "metadata": {},
   "outputs": [],
   "source": [
    "df_train.loc[:, scale_columns] = scaler.transform(\n",
    "  df_train[scale_columns].to_numpy()\n",
    ")\n",
    "df_test.loc[:, scale_columns] = scaler.transform(\n",
    "  df_test[scale_columns].to_numpy()\n",
    ")"
   ]
  },
  {
   "cell_type": "code",
   "execution_count": 36,
   "id": "7b81f7be",
   "metadata": {},
   "outputs": [],
   "source": [
    "def create_dataset(X, y, time_steps=1, step=1):\n",
    "    Xs, ys = [], []\n",
    "    for i in range(0, len(X) - time_steps, step):\n",
    "        v = X.iloc[i:(i + time_steps)].values\n",
    "        labels = y.iloc[i: i + time_steps]\n",
    "        Xs.append(v)\n",
    "        ys.append(stats.mode(labels)[0][0])\n",
    "    return np.array(Xs), np.array(ys).reshape(-1, 1)"
   ]
  },
  {
   "cell_type": "code",
   "execution_count": 37,
   "id": "c85e1e0f",
   "metadata": {},
   "outputs": [],
   "source": [
    "TIME_STEPS = 200\n",
    "STEP = 40\n",
    "\n",
    "X_train, y_train = create_dataset(\n",
    "    df_train[['x_axis', 'y_axis', 'z_axis']],\n",
    "    df_train.activity,\n",
    "    TIME_STEPS,\n",
    "    STEP\n",
    ")\n",
    "\n",
    "X_test, y_test = create_dataset(\n",
    "    df_test[['x_axis', 'y_axis', 'z_axis']],\n",
    "    df_test.activity,\n",
    "    TIME_STEPS,\n",
    "    STEP\n",
    ")"
   ]
  },
  {
   "cell_type": "code",
   "execution_count": 38,
   "id": "d76e5c90",
   "metadata": {},
   "outputs": [
    {
     "data": {
      "text/plain": [
       "((22454, 200, 3), (22454, 1))"
      ]
     },
     "execution_count": 38,
     "metadata": {},
     "output_type": "execute_result"
    }
   ],
   "source": [
    "X_train.shape,y_train.shape"
   ]
  },
  {
   "cell_type": "code",
   "execution_count": 39,
   "id": "43362740",
   "metadata": {},
   "outputs": [],
   "source": [
    "from sklearn.preprocessing import OneHotEncoder\n",
    "\n",
    "enc = OneHotEncoder(handle_unknown='ignore', sparse=False)\n",
    "\n",
    "enc = enc.fit(y_train)\n",
    "\n",
    "y_train = enc.transform(y_train)\n",
    "y_test = enc.transform(y_test)"
   ]
  },
  {
   "cell_type": "code",
   "execution_count": 56,
   "id": "b1917c2d",
   "metadata": {},
   "outputs": [],
   "source": [
    "model = tf.keras.Sequential()\n",
    "model.add(tf.keras.layers.LSTM(128,input_shape = (X_train.shape[1],X_train.shape[2])))\n",
    "model.add(tf.keras.layers.Dropout(0.5))\n",
    "model.add(tf.keras.layers.Dense(128,activation='relu'))\n",
    "model.add(tf.keras.layers.Dense(y_train.shape[1],activation='softmax'))\n",
    "model.compile(loss = 'categorical_crossentropy',optimizer='adam',metrics=['accuracy'])\n"
   ]
  },
  {
   "cell_type": "code",
   "execution_count": 57,
   "id": "27fb57bb",
   "metadata": {},
   "outputs": [
    {
     "name": "stdout",
     "output_type": "stream",
     "text": [
      "Model: \"sequential_5\"\n",
      "_________________________________________________________________\n",
      " Layer (type)                Output Shape              Param #   \n",
      "=================================================================\n",
      " lstm_5 (LSTM)               (None, 128)               67584     \n",
      "                                                                 \n",
      " dropout_5 (Dropout)         (None, 128)               0         \n",
      "                                                                 \n",
      " dense_9 (Dense)             (None, 128)               16512     \n",
      "                                                                 \n",
      " dense_10 (Dense)            (None, 6)                 774       \n",
      "                                                                 \n",
      "=================================================================\n",
      "Total params: 84,870\n",
      "Trainable params: 84,870\n",
      "Non-trainable params: 0\n",
      "_________________________________________________________________\n"
     ]
    }
   ],
   "source": [
    "model.summary()"
   ]
  },
  {
   "cell_type": "code",
   "execution_count": 58,
   "id": "4363f853",
   "metadata": {
    "scrolled": true
   },
   "outputs": [
    {
     "name": "stdout",
     "output_type": "stream",
     "text": [
      "Epoch 1/25\n",
      "351/351 [==============================] - 85s 238ms/step - loss: 1.1352 - accuracy: 0.6210s - loss: 1.1349 \n",
      "Epoch 2/25\n",
      "351/351 [==============================] - 67s 192ms/step - loss: 0.8740 - accuracy: 0.7143\n",
      "Epoch 3/25\n",
      "351/351 [==============================] - 81s 230ms/step - loss: 0.6803 - accuracy: 0.7736\n",
      "Epoch 4/25\n",
      "351/351 [==============================] - 82s 234ms/step - loss: 0.5726 - accuracy: 0.8085\n",
      "Epoch 5/25\n",
      "351/351 [==============================] - 71s 203ms/step - loss: 0.5745 - accuracy: 0.8065\n",
      "Epoch 6/25\n",
      "351/351 [==============================] - 71s 202ms/step - loss: 0.4343 - accuracy: 0.8515\n",
      "Epoch 7/25\n",
      "351/351 [==============================] - 70s 200ms/step - loss: 0.4022 - accuracy: 0.8700\n",
      "Epoch 8/25\n",
      "351/351 [==============================] - 72s 205ms/step - loss: 0.3769 - accuracy: 0.8744\n",
      "Epoch 9/25\n",
      "351/351 [==============================] - 69s 197ms/step - loss: 0.3494 - accuracy: 0.8757\n",
      "Epoch 10/25\n",
      "351/351 [==============================] - 76s 216ms/step - loss: 0.3696 - accuracy: 0.8708\n",
      "Epoch 11/25\n",
      "351/351 [==============================] - 85s 241ms/step - loss: 0.3821 - accuracy: 0.8681\n",
      "Epoch 12/25\n",
      "351/351 [==============================] - 83s 238ms/step - loss: 0.3631 - accuracy: 0.8839\n",
      "Epoch 13/25\n",
      "351/351 [==============================] - 90s 257ms/step - loss: 0.3339 - accuracy: 0.8949\n",
      "Epoch 14/25\n",
      "351/351 [==============================] - 70s 199ms/step - loss: 0.3746 - accuracy: 0.8720\n",
      "Epoch 15/25\n",
      "351/351 [==============================] - 73s 209ms/step - loss: 0.3346 - accuracy: 0.9042\n",
      "Epoch 16/25\n",
      "351/351 [==============================] - 68s 193ms/step - loss: 0.3673 - accuracy: 0.8887\n",
      "Epoch 17/25\n",
      "351/351 [==============================] - 69s 196ms/step - loss: 0.3696 - accuracy: 0.8881\n",
      "Epoch 18/25\n",
      "351/351 [==============================] - 71s 202ms/step - loss: 0.4394 - accuracy: 0.8570\n",
      "Epoch 19/25\n",
      "351/351 [==============================] - 74s 212ms/step - loss: 0.3698 - accuracy: 0.8813\n",
      "Epoch 20/25\n",
      "351/351 [==============================] - 75s 214ms/step - loss: 0.5230 - accuracy: 0.8354\n",
      "Epoch 21/25\n",
      "351/351 [==============================] - 83s 236ms/step - loss: 0.3038 - accuracy: 0.9067\n",
      "Epoch 22/25\n",
      "351/351 [==============================] - 68s 194ms/step - loss: 0.2597 - accuracy: 0.9248\n",
      "Epoch 23/25\n",
      "351/351 [==============================] - 69s 197ms/step - loss: 0.3200 - accuracy: 0.8998\n",
      "Epoch 24/25\n",
      "351/351 [==============================] - 88s 250ms/step - loss: 0.3814 - accuracy: 0.8877\n",
      "Epoch 25/25\n",
      "351/351 [==============================] - 68s 194ms/step - loss: 0.5210 - accuracy: 0.8317\n"
     ]
    },
    {
     "data": {
      "text/plain": [
       "<keras.callbacks.History at 0x1d9279d16a0>"
      ]
     },
     "execution_count": 58,
     "metadata": {},
     "output_type": "execute_result"
    }
   ],
   "source": [
    "model.fit(X_train,y_train,epochs=25,batch_size=64)"
   ]
  },
  {
   "cell_type": "code",
   "execution_count": 61,
   "id": "db40e09b",
   "metadata": {},
   "outputs": [
    {
     "name": "stdout",
     "output_type": "stream",
     "text": [
      "78/78 [==============================] - 4s 45ms/step - loss: 0.5944 - accuracy: 0.8109\n"
     ]
    },
    {
     "data": {
      "text/plain": [
       "[0.5943735837936401, 0.8108974099159241]"
      ]
     },
     "execution_count": 61,
     "metadata": {},
     "output_type": "execute_result"
    }
   ],
   "source": [
    "model.evaluate(X_test,y_test,batch_size=64)"
   ]
  },
  {
   "cell_type": "code",
   "execution_count": 62,
   "id": "e360c890",
   "metadata": {},
   "outputs": [],
   "source": [
    "y_pred = model.predict(X_test)"
   ]
  },
  {
   "cell_type": "code",
   "execution_count": 63,
   "id": "ecb8ecb2",
   "metadata": {},
   "outputs": [],
   "source": [
    "from sklearn.metrics import confusion_matrix"
   ]
  },
  {
   "cell_type": "code",
   "execution_count": 64,
   "id": "05f5566b",
   "metadata": {},
   "outputs": [],
   "source": [
    "def plot_cm(y_true, y_pred, class_names):\n",
    "  cm = confusion_matrix(y_true, y_pred)\n",
    "  fig, ax = plt.subplots(figsize=(18, 16)) \n",
    "  ax = sns.heatmap(\n",
    "      cm, \n",
    "      annot=True, \n",
    "      fmt=\"d\", \n",
    "      cmap=sns.diverging_palette(220, 20, n=7),\n",
    "      ax=ax\n",
    "  )\n",
    "\n",
    "  plt.ylabel('Actual')\n",
    "  plt.xlabel('Predicted')\n",
    "  ax.set_xticklabels(class_names)\n",
    "  ax.set_yticklabels(class_names)\n",
    "  b, t = plt.ylim()\n",
    "  b += 0.5 \n",
    "  t -= 0.5\n",
    "  plt.ylim(b, t) \n",
    "  plt.show() "
   ]
  },
  {
   "cell_type": "code",
   "execution_count": 55,
   "id": "88dba4f1",
   "metadata": {},
   "outputs": [
    {
     "data": {
      "image/png": "[encoded data removed]",
      "text/plain": [
       "<Figure size 1296x1152 with 2 Axes>"
      ]
     },
     "metadata": {
      "needs_background": "light"
     },
     "output_type": "display_data"
    }
   ],
   "source": [
    "plot_cm(\n",
    "  enc.inverse_transform(y_test),\n",
    "  enc.inverse_transform(y_pred),\n",
    "  enc.categories_[0]\n",
    ")"
   ]
  },
  {
   "cell_type": "code",
   "execution_count": null,
   "id": "1685ce41",
   "metadata": {},
   "outputs": [],
   "source": []
  }
 ],
 "metadata": {
  "kernelspec": {
   "display_name": "Python 3 (ipykernel)",
   "language": "python",
   "name": "python3"
  },
  "language_info": {
   "codemirror_mode": {
    "name": "ipython",
    "version": 3
   },
   "file_extension": ".py",
   "mimetype": "text/x-python",
   "name": "python",
   "nbconvert_exporter": "python",
   "pygments_lexer": "ipython3",
   "version": "3.9.7"
  }
 },
 "nbformat": 4,
 "nbformat_minor": 5
}
